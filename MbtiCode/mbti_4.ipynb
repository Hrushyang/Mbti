{
 "cells": [
  {
   "cell_type": "code",
   "execution_count": 1,
   "metadata": {},
   "outputs": [],
   "source": [
    "import numpy as np\n",
    "import pandas as pd\n",
    "import matplotlib.pyplot as plt\n",
    "import seaborn as sns\n",
    "\n",
    "# Utility libs\n",
    "from tqdm import tqdm\n",
    "import time\n",
    "import datetime\n",
    "from skopt import gp_minimize\n",
    "from skopt.space import Real, Integer\n",
    "from skopt.utils import use_named_args\n",
    "from skopt.plots import plot_convergence\n",
    "from copy import deepcopy\n",
    "import pprint\n",
    "import shap\n",
    "import os"
   ]
  },
  {
   "cell_type": "code",
   "execution_count": 2,
   "metadata": {
    "execution": {
     "iopub.execute_input": "2021-07-04T17:32:30.9441Z",
     "iopub.status.busy": "2021-07-04T17:32:30.943702Z",
     "iopub.status.idle": "2021-07-04T17:32:37.351873Z",
     "shell.execute_reply": "2021-07-04T17:32:37.350509Z",
     "shell.execute_reply.started": "2021-07-04T17:32:30.944025Z"
    }
   },
   "outputs": [
    {
     "data": {
      "text/html": [
       "<div>\n",
       "<style scoped>\n",
       "    .dataframe tbody tr th:only-of-type {\n",
       "        vertical-align: middle;\n",
       "    }\n",
       "\n",
       "    .dataframe tbody tr th {\n",
       "        vertical-align: top;\n",
       "    }\n",
       "\n",
       "    .dataframe thead th {\n",
       "        text-align: right;\n",
       "    }\n",
       "</style>\n",
       "<table border=\"1\" class=\"dataframe\">\n",
       "  <thead>\n",
       "    <tr style=\"text-align: right;\">\n",
       "      <th></th>\n",
       "      <th>type</th>\n",
       "      <th>posts</th>\n",
       "    </tr>\n",
       "  </thead>\n",
       "  <tbody>\n",
       "    <tr>\n",
       "      <th>0</th>\n",
       "      <td>INFJ</td>\n",
       "      <td>'http://www.youtube.com/watch?v=qsXHcwe3krw|||...</td>\n",
       "    </tr>\n",
       "    <tr>\n",
       "      <th>1</th>\n",
       "      <td>ENTP</td>\n",
       "      <td>'I'm finding the lack of me in these posts ver...</td>\n",
       "    </tr>\n",
       "    <tr>\n",
       "      <th>2</th>\n",
       "      <td>INTP</td>\n",
       "      <td>'Good one  _____   https://www.youtube.com/wat...</td>\n",
       "    </tr>\n",
       "    <tr>\n",
       "      <th>3</th>\n",
       "      <td>INTJ</td>\n",
       "      <td>'Dear INTP,   I enjoyed our conversation the o...</td>\n",
       "    </tr>\n",
       "    <tr>\n",
       "      <th>4</th>\n",
       "      <td>ENTJ</td>\n",
       "      <td>'You're fired.|||That's another silly misconce...</td>\n",
       "    </tr>\n",
       "  </tbody>\n",
       "</table>\n",
       "</div>"
      ],
      "text/plain": [
       "   type                                              posts\n",
       "0  INFJ  'http://www.youtube.com/watch?v=qsXHcwe3krw|||...\n",
       "1  ENTP  'I'm finding the lack of me in these posts ver...\n",
       "2  INTP  'Good one  _____   https://www.youtube.com/wat...\n",
       "3  INTJ  'Dear INTP,   I enjoyed our conversation the o...\n",
       "4  ENTJ  'You're fired.|||That's another silly misconce..."
      ]
     },
     "execution_count": 2,
     "metadata": {},
     "output_type": "execute_result"
    }
   ],
   "source": [
    "import tensorflow as tf\n",
    "import pandas as pd\n",
    "import catboost\n",
    "from catboost import CatBoostClassifier\n",
    "from sklearn.tree import DecisionTreeClassifier\n",
    "from sklearn.metrics import classification_report\n",
    "from sklearn.linear_model import LogisticRegression\n",
    "from sklearn.preprocessing import LabelEncoder\n",
    "from sklearn.feature_extraction.text import TfidfVectorizer\n",
    "from wordcloud import WordCloud\n",
    "from tqdm import tqdm\n",
    "import nltk\n",
    "from nltk.stem import WordNetLemmatizer\n",
    "from nltk.corpus import stopwords\n",
    "import re\n",
    "from sklearn.model_selection import train_test_split\n",
    "from sklearn.svm import SVC,LinearSVC\n",
    "from sklearn.ensemble import RandomForestClassifier,GradientBoostingClassifier\n",
    "from xgboost import XGBClassifier\n",
    "import matplotlib.pyplot as plt\n",
    "import seaborn as sns\n",
    "from sklearn.metrics import r2_score\n",
    "from sklearn.metrics import accuracy_score\n",
    "from sklearn.naive_bayes import MultinomialNB\n",
    "from sklearn.experimental import enable_hist_gradient_boosting\n",
    "from sklearn.ensemble import HistGradientBoostingClassifier\n",
    "#from imblearn.over_sampling import SMOTE\n",
    "import plotly.express as px\n",
    "import warnings\n",
    "warnings.filterwarnings('ignore')\n",
    "data=pd.read_csv('mbti_1.csv')\n",
    "data.head()"
   ]
  },
  {
   "cell_type": "code",
   "execution_count": 3,
   "metadata": {
    "execution": {
     "iopub.execute_input": "2021-07-04T17:32:37.353745Z",
     "iopub.status.busy": "2021-07-04T17:32:37.353435Z",
     "iopub.status.idle": "2021-07-04T17:32:37.444684Z",
     "shell.execute_reply": "2021-07-04T17:32:37.443514Z",
     "shell.execute_reply.started": "2021-07-04T17:32:37.353718Z"
    }
   },
   "outputs": [
    {
     "data": {
      "text/html": [
       "<div>\n",
       "<style scoped>\n",
       "    .dataframe tbody tr th:only-of-type {\n",
       "        vertical-align: middle;\n",
       "    }\n",
       "\n",
       "    .dataframe tbody tr th {\n",
       "        vertical-align: top;\n",
       "    }\n",
       "\n",
       "    .dataframe thead th {\n",
       "        text-align: right;\n",
       "    }\n",
       "</style>\n",
       "<table border=\"1\" class=\"dataframe\">\n",
       "  <thead>\n",
       "    <tr style=\"text-align: right;\">\n",
       "      <th></th>\n",
       "      <th>type</th>\n",
       "      <th>posts</th>\n",
       "    </tr>\n",
       "  </thead>\n",
       "  <tbody>\n",
       "    <tr>\n",
       "      <th>count</th>\n",
       "      <td>8675</td>\n",
       "      <td>8675</td>\n",
       "    </tr>\n",
       "    <tr>\n",
       "      <th>unique</th>\n",
       "      <td>16</td>\n",
       "      <td>8675</td>\n",
       "    </tr>\n",
       "    <tr>\n",
       "      <th>top</th>\n",
       "      <td>INFP</td>\n",
       "      <td>'http://www.youtube.com/watch?v=qsXHcwe3krw|||...</td>\n",
       "    </tr>\n",
       "    <tr>\n",
       "      <th>freq</th>\n",
       "      <td>1832</td>\n",
       "      <td>1</td>\n",
       "    </tr>\n",
       "  </tbody>\n",
       "</table>\n",
       "</div>"
      ],
      "text/plain": [
       "        type                                              posts\n",
       "count   8675                                               8675\n",
       "unique    16                                               8675\n",
       "top     INFP  'http://www.youtube.com/watch?v=qsXHcwe3krw|||...\n",
       "freq    1832                                                  1"
      ]
     },
     "execution_count": 3,
     "metadata": {},
     "output_type": "execute_result"
    }
   ],
   "source": [
    "data.describe(include='O')"
   ]
  },
  {
   "cell_type": "code",
   "execution_count": 4,
   "metadata": {
    "execution": {
     "iopub.execute_input": "2021-07-04T17:32:37.447554Z",
     "iopub.status.busy": "2021-07-04T17:32:37.447092Z",
     "iopub.status.idle": "2021-07-04T17:32:37.459495Z",
     "shell.execute_reply": "2021-07-04T17:32:37.457842Z",
     "shell.execute_reply.started": "2021-07-04T17:32:37.447511Z"
    }
   },
   "outputs": [
    {
     "data": {
      "text/plain": [
       "INFP    1832\n",
       "INFJ    1470\n",
       "INTP    1304\n",
       "INTJ    1091\n",
       "ENTP     685\n",
       "ENFP     675\n",
       "ISTP     337\n",
       "ISFP     271\n",
       "ENTJ     231\n",
       "ISTJ     205\n",
       "ENFJ     190\n",
       "ISFJ     166\n",
       "ESTP      89\n",
       "ESFP      48\n",
       "ESFJ      42\n",
       "ESTJ      39\n",
       "Name: type, dtype: int64"
      ]
     },
     "execution_count": 4,
     "metadata": {},
     "output_type": "execute_result"
    }
   ],
   "source": [
    "data['type'].value_counts()"
   ]
  },
  {
   "cell_type": "code",
   "execution_count": 5,
   "metadata": {
    "execution": {
     "iopub.execute_input": "2021-07-04T17:32:37.462921Z",
     "iopub.status.busy": "2021-07-04T17:32:37.462439Z",
     "iopub.status.idle": "2021-07-04T17:32:37.479434Z",
     "shell.execute_reply": "2021-07-04T17:32:37.478092Z",
     "shell.execute_reply.started": "2021-07-04T17:32:37.462879Z"
    },
    "scrolled": true
   },
   "outputs": [
    {
     "name": "stdout",
     "output_type": "stream",
     "text": [
      "<class 'pandas.core.frame.DataFrame'>\n",
      "RangeIndex: 8675 entries, 0 to 8674\n",
      "Data columns (total 2 columns):\n",
      " #   Column  Non-Null Count  Dtype \n",
      "---  ------  --------------  ----- \n",
      " 0   type    8675 non-null   object\n",
      " 1   posts   8675 non-null   object\n",
      "dtypes: object(2)\n",
      "memory usage: 135.7+ KB\n"
     ]
    }
   ],
   "source": [
    "data.info()"
   ]
  },
  {
   "cell_type": "code",
   "execution_count": 6,
   "metadata": {
    "execution": {
     "iopub.execute_input": "2021-07-04T17:32:37.501819Z",
     "iopub.status.busy": "2021-07-04T17:32:37.501351Z",
     "iopub.status.idle": "2021-07-04T17:32:37.525627Z",
     "shell.execute_reply": "2021-07-04T17:32:37.524403Z",
     "shell.execute_reply.started": "2021-07-04T17:32:37.50177Z"
    }
   },
   "outputs": [],
   "source": [
    "# Stratify split to ensure equal distribution of data\n",
    "\n",
    "train_data,test_data=train_test_split(data,test_size=0.2,random_state=42,stratify=data.type)"
   ]
  },
  {
   "cell_type": "markdown",
   "metadata": {},
   "source": [
    "### Function to clean the text data."
   ]
  },
  {
   "cell_type": "code",
   "execution_count": 7,
   "metadata": {
    "execution": {
     "iopub.execute_input": "2021-07-04T17:32:37.529395Z",
     "iopub.status.busy": "2021-07-04T17:32:37.528543Z",
     "iopub.status.idle": "2021-07-04T17:32:37.537482Z",
     "shell.execute_reply": "2021-07-04T17:32:37.536387Z",
     "shell.execute_reply.started": "2021-07-04T17:32:37.529348Z"
    }
   },
   "outputs": [],
   "source": [
    "def clear_text(data):\n",
    "    data_length=[]\n",
    "    lemmatizer=WordNetLemmatizer()\n",
    "    cleaned_text=[]\n",
    "    for sentence in tqdm(data.posts):\n",
    "        sentence=sentence.lower()\n",
    "        \n",
    "#         removing links from text data\n",
    "        sentence=re.sub('https?://[^\\s<>\"]+|www\\.[^\\s<>\"]+',' ',sentence)\n",
    "    \n",
    "#         removing other symbols\n",
    "        sentence=re.sub('[^0-9a-z]',' ',sentence)\n",
    "    \n",
    "        \n",
    "        data_length.append(len(sentence.split()))\n",
    "        cleaned_text.append(sentence)\n",
    "    return cleaned_text,data_length"
   ]
  },
  {
   "cell_type": "code",
   "execution_count": 8,
   "metadata": {
    "execution": {
     "iopub.execute_input": "2021-07-04T17:32:37.541665Z",
     "iopub.status.busy": "2021-07-04T17:32:37.541222Z",
     "iopub.status.idle": "2021-07-04T17:32:44.076972Z",
     "shell.execute_reply": "2021-07-04T17:32:44.075182Z",
     "shell.execute_reply.started": "2021-07-04T17:32:37.541617Z"
    }
   },
   "outputs": [
    {
     "name": "stderr",
     "output_type": "stream",
     "text": [
      "100%|██████████| 6940/6940 [00:03<00:00, 2002.61it/s]\n"
     ]
    }
   ],
   "source": [
    "train_data.posts,train_length=clear_text(train_data)"
   ]
  },
  {
   "cell_type": "code",
   "execution_count": 9,
   "metadata": {
    "execution": {
     "iopub.execute_input": "2021-07-04T17:32:44.080395Z",
     "iopub.status.busy": "2021-07-04T17:32:44.079872Z",
     "iopub.status.idle": "2021-07-04T17:32:46.264662Z",
     "shell.execute_reply": "2021-07-04T17:32:46.263289Z",
     "shell.execute_reply.started": "2021-07-04T17:32:44.080352Z"
    }
   },
   "outputs": [
    {
     "name": "stderr",
     "output_type": "stream",
     "text": [
      "100%|██████████| 1735/1735 [00:00<00:00, 1836.32it/s]\n"
     ]
    }
   ],
   "source": [
    "test_data.posts,test_length=clear_text(test_data)"
   ]
  },
  {
   "cell_type": "code",
   "execution_count": 10,
   "metadata": {
    "_kg_hide-input": true,
    "execution": {
     "iopub.execute_input": "2021-07-04T17:32:48.09703Z",
     "iopub.status.busy": "2021-07-04T17:32:48.096598Z",
     "iopub.status.idle": "2021-07-04T17:32:48.104141Z",
     "shell.execute_reply": "2021-07-04T17:32:48.102324Z",
     "shell.execute_reply.started": "2021-07-04T17:32:48.096988Z"
    }
   },
   "outputs": [],
   "source": [
    "class Lemmatizer(object):\n",
    "    def __init__(self):\n",
    "        self.lemmatizer = WordNetLemmatizer()\n",
    "    def __call__(self, sentence):\n",
    "        return [self.lemmatizer.lemmatize(word) for word in sentence.split() if len(word)>2]"
   ]
  },
  {
   "cell_type": "code",
   "execution_count": 11,
   "metadata": {
    "_kg_hide-output": true,
    "execution": {
     "iopub.execute_input": "2021-07-04T17:32:48.107123Z",
     "iopub.status.busy": "2021-07-04T17:32:48.1065Z",
     "iopub.status.idle": "2021-07-04T17:33:27.446387Z",
     "shell.execute_reply": "2021-07-04T17:33:27.445389Z",
     "shell.execute_reply.started": "2021-07-04T17:32:48.107082Z"
    }
   },
   "outputs": [
    {
     "data": {
      "text/plain": [
       "TfidfVectorizer(max_features=5000, stop_words='english',\n",
       "                tokenizer=<__main__.Lemmatizer object at 0x000001F00C4C85C8>)"
      ]
     },
     "execution_count": 11,
     "metadata": {},
     "output_type": "execute_result"
    }
   ],
   "source": [
    "vectorizer=TfidfVectorizer( max_features=5000,stop_words='english',tokenizer=Lemmatizer())\n",
    "vectorizer.fit(train_data.posts)"
   ]
  },
  {
   "cell_type": "code",
   "execution_count": 12,
   "metadata": {
    "execution": {
     "iopub.execute_input": "2021-07-04T17:33:28.313124Z",
     "iopub.status.busy": "2021-07-04T17:33:28.312467Z",
     "iopub.status.idle": "2021-07-04T17:34:14.896901Z",
     "shell.execute_reply": "2021-07-04T17:34:14.895689Z",
     "shell.execute_reply.started": "2021-07-04T17:33:28.313074Z"
    }
   },
   "outputs": [],
   "source": [
    "train_post=vectorizer.transform(train_data.posts).toarray()\n",
    "test_post=vectorizer.transform(test_data.posts).toarray()"
   ]
  },
  {
   "cell_type": "code",
   "execution_count": 13,
   "metadata": {
    "execution": {
     "iopub.execute_input": "2021-07-04T17:34:14.89907Z",
     "iopub.status.busy": "2021-07-04T17:34:14.898654Z",
     "iopub.status.idle": "2021-07-04T17:34:14.908696Z",
     "shell.execute_reply": "2021-07-04T17:34:14.907235Z",
     "shell.execute_reply.started": "2021-07-04T17:34:14.89902Z"
    }
   },
   "outputs": [
    {
     "data": {
      "text/plain": [
       "(6940, 5000)"
      ]
     },
     "execution_count": 13,
     "metadata": {},
     "output_type": "execute_result"
    }
   ],
   "source": [
    "train_post.shape"
   ]
  },
  {
   "cell_type": "code",
   "execution_count": 14,
   "metadata": {
    "execution": {
     "iopub.execute_input": "2021-07-04T17:34:14.911347Z",
     "iopub.status.busy": "2021-07-04T17:34:14.910823Z",
     "iopub.status.idle": "2021-07-04T17:34:14.923661Z",
     "shell.execute_reply": "2021-07-04T17:34:14.922296Z",
     "shell.execute_reply.started": "2021-07-04T17:34:14.911287Z"
    }
   },
   "outputs": [],
   "source": [
    "target_encoder=LabelEncoder()\n",
    "train_target=target_encoder.fit_transform(train_data.type)\n",
    "test_target=target_encoder.fit_transform(test_data.type)"
   ]
  },
  {
   "cell_type": "code",
   "execution_count": 15,
   "metadata": {
    "execution": {
     "iopub.execute_input": "2021-07-04T17:34:14.925843Z",
     "iopub.status.busy": "2021-07-04T17:34:14.925358Z",
     "iopub.status.idle": "2021-07-04T17:34:14.935099Z",
     "shell.execute_reply": "2021-07-04T17:34:14.933966Z",
     "shell.execute_reply.started": "2021-07-04T17:34:14.925801Z"
    }
   },
   "outputs": [],
   "source": [
    "models_accuracy={}"
   ]
  },
  {
   "cell_type": "markdown",
   "metadata": {},
   "source": [
    "<h4 style=\"background-color:#cc99ff;font-family:newtimeroman;font-size:300%;text-align:center;border-radius: 15px 50px;padding: 5px \">Logistic Regression</h4>"
   ]
  },
  {
   "cell_type": "code",
   "execution_count": null,
   "metadata": {
    "execution": {
     "iopub.execute_input": "2021-07-04T18:09:27.051783Z",
     "iopub.status.busy": "2021-07-04T18:09:27.051421Z",
     "iopub.status.idle": "2021-07-04T18:10:17.109866Z",
     "shell.execute_reply": "2021-07-04T18:10:17.108379Z",
     "shell.execute_reply.started": "2021-07-04T18:09:27.05175Z"
    }
   },
   "outputs": [],
   "source": [
    "model_log=LogisticRegression(max_iter=3000,C=0.5,n_jobs=-1)\n",
    "model_log.fit(train_post,train_target)"
   ]
  },
  {
   "cell_type": "code",
   "execution_count": null,
   "metadata": {
    "execution": {
     "iopub.execute_input": "2021-07-04T18:10:17.113068Z",
     "iopub.status.busy": "2021-07-04T18:10:17.112551Z",
     "iopub.status.idle": "2021-07-04T18:10:17.296449Z",
     "shell.execute_reply": "2021-07-04T18:10:17.29421Z",
     "shell.execute_reply.started": "2021-07-04T18:10:17.113012Z"
    }
   },
   "outputs": [],
   "source": [
    "print('train classification report \\n ',classification_report(train_target,model_log.predict(train_post),target_names=target_encoder.inverse_transform([i for i in range(16)])))"
   ]
  },
  {
   "cell_type": "code",
   "execution_count": null,
   "metadata": {
    "execution": {
     "iopub.execute_input": "2021-07-04T18:10:17.299315Z",
     "iopub.status.busy": "2021-07-04T18:10:17.298843Z",
     "iopub.status.idle": "2021-07-04T18:10:17.361535Z",
     "shell.execute_reply": "2021-07-04T18:10:17.358606Z",
     "shell.execute_reply.started": "2021-07-04T18:10:17.299267Z"
    }
   },
   "outputs": [],
   "source": [
    "print('test classification report \\n',classification_report(test_target,model_log.predict(test_post),target_names=target_encoder.inverse_transform([i for i in range(16)])))"
   ]
  },
  {
   "cell_type": "code",
   "execution_count": null,
   "metadata": {},
   "outputs": [],
   "source": [
    "predolog=model_log.predict(test_post)"
   ]
  },
  {
   "cell_type": "code",
   "execution_count": null,
   "metadata": {},
   "outputs": [],
   "source": [
    "target_encoder.inverse_transform(predolog)"
   ]
  },
  {
   "cell_type": "code",
   "execution_count": null,
   "metadata": {
    "execution": {
     "iopub.execute_input": "2021-07-04T18:11:06.181797Z",
     "iopub.status.busy": "2021-07-04T18:11:06.181374Z",
     "iopub.status.idle": "2021-07-04T18:11:06.225451Z",
     "shell.execute_reply": "2021-07-04T18:11:06.223964Z",
     "shell.execute_reply.started": "2021-07-04T18:11:06.181764Z"
    }
   },
   "outputs": [],
   "source": [
    "models_accuracy['logistic regression']=accuracy_score(test_target,model_log.predict(test_post))"
   ]
  },
  {
   "cell_type": "markdown",
   "metadata": {},
   "source": [
    "<h4 style=\"background-color:#cc99ff;font-family:newtimeroman;font-size:300%;text-align:center;border-radius: 15px 50px;padding: 5px \">Linear Support Vector classifier</h4>"
   ]
  },
  {
   "cell_type": "code",
   "execution_count": null,
   "metadata": {
    "execution": {
     "iopub.execute_input": "2021-07-04T17:34:41.912735Z",
     "iopub.status.busy": "2021-07-04T17:34:41.911852Z",
     "iopub.status.idle": "2021-07-04T17:34:42.985161Z",
     "shell.execute_reply": "2021-07-04T17:34:42.984165Z",
     "shell.execute_reply.started": "2021-07-04T17:34:41.912677Z"
    }
   },
   "outputs": [],
   "source": [
    "model_linear_svc=LinearSVC(C=0.1)\n",
    "model_linear_svc.fit(train_post,train_target)"
   ]
  },
  {
   "cell_type": "code",
   "execution_count": null,
   "metadata": {
    "execution": {
     "iopub.execute_input": "2021-07-04T17:34:42.98828Z",
     "iopub.status.busy": "2021-07-04T17:34:42.987816Z",
     "iopub.status.idle": "2021-07-04T17:34:43.209317Z",
     "shell.execute_reply": "2021-07-04T17:34:43.2068Z",
     "shell.execute_reply.started": "2021-07-04T17:34:42.98824Z"
    }
   },
   "outputs": [],
   "source": [
    "print('train classification report \\n ',classification_report(train_target,model_linear_svc.predict(train_post),target_names=target_encoder.inverse_transform([i for i in range(16)])))\n",
    "print('test classification report \\n',classification_report(test_target,model_linear_svc.predict(test_post),target_names=target_encoder.inverse_transform([i for i in range(16)])))"
   ]
  },
  {
   "cell_type": "code",
   "execution_count": null,
   "metadata": {
    "execution": {
     "iopub.execute_input": "2021-07-04T17:34:43.211475Z",
     "iopub.status.busy": "2021-07-04T17:34:43.211068Z",
     "iopub.status.idle": "2021-07-04T17:34:43.253891Z",
     "shell.execute_reply": "2021-07-04T17:34:43.252293Z",
     "shell.execute_reply.started": "2021-07-04T17:34:43.211435Z"
    }
   },
   "outputs": [],
   "source": [
    "models_accuracy['Linear Support Vector classifier']=accuracy_score(test_target,model_linear_svc.predict(test_post))"
   ]
  },
  {
   "cell_type": "markdown",
   "metadata": {},
   "source": [
    "<h4 style=\"background-color:#cc99ff;font-family:newtimeroman;font-size:300%;text-align:center;border-radius: 15px 50px;padding: 5px \">Support Vector classifier</h4>"
   ]
  },
  {
   "cell_type": "code",
   "execution_count": null,
   "metadata": {
    "execution": {
     "iopub.execute_input": "2021-07-04T17:34:43.256246Z",
     "iopub.status.busy": "2021-07-04T17:34:43.255843Z",
     "iopub.status.idle": "2021-07-04T17:40:06.979781Z",
     "shell.execute_reply": "2021-07-04T17:40:06.978647Z",
     "shell.execute_reply.started": "2021-07-04T17:34:43.256206Z"
    }
   },
   "outputs": [],
   "source": [
    "model_svc=SVC()\n",
    "model_svc.fit(train_post,train_target)"
   ]
  },
  {
   "cell_type": "code",
   "execution_count": null,
   "metadata": {
    "execution": {
     "iopub.execute_input": "2021-07-04T17:40:06.98185Z",
     "iopub.status.busy": "2021-07-04T17:40:06.981217Z",
     "iopub.status.idle": "2021-07-04T17:46:24.595634Z",
     "shell.execute_reply": "2021-07-04T17:46:24.593512Z",
     "shell.execute_reply.started": "2021-07-04T17:40:06.981806Z"
    }
   },
   "outputs": [],
   "source": [
    "\n",
    "print('train classification report \\n ',classification_report(train_target,model_svc.predict(train_post),target_names=target_encoder.inverse_transform([i for i in range(16)])))\n",
    "print('test classification report \\n ',classification_report(test_target,model_svc.predict(test_post),target_names=target_encoder.inverse_transform([i for i in range(16)])))"
   ]
  },
  {
   "cell_type": "code",
   "execution_count": null,
   "metadata": {
    "execution": {
     "iopub.execute_input": "2021-07-04T17:46:24.597885Z",
     "iopub.status.busy": "2021-07-04T17:46:24.597466Z",
     "iopub.status.idle": "2021-07-04T17:47:40.299045Z",
     "shell.execute_reply": "2021-07-04T17:47:40.297976Z",
     "shell.execute_reply.started": "2021-07-04T17:46:24.597844Z"
    }
   },
   "outputs": [],
   "source": [
    "models_accuracy['Support Vector classifier']=accuracy_score(test_target,model_svc.predict(test_post))"
   ]
  },
  {
   "cell_type": "markdown",
   "metadata": {},
   "source": [
    "<h4 style=\"background-color:#cc99ff;font-family:newtimeroman;font-size:300%;text-align:center;border-radius: 15px 50px;padding: 5px \">Multinomial Naive Bayes</h4>"
   ]
  },
  {
   "cell_type": "code",
   "execution_count": null,
   "metadata": {
    "execution": {
     "iopub.execute_input": "2021-07-04T17:47:40.301065Z",
     "iopub.status.busy": "2021-07-04T17:47:40.300585Z",
     "iopub.status.idle": "2021-07-04T17:47:40.491613Z",
     "shell.execute_reply": "2021-07-04T17:47:40.490485Z",
     "shell.execute_reply.started": "2021-07-04T17:47:40.301022Z"
    }
   },
   "outputs": [],
   "source": [
    "model_multinomial_nb=MultinomialNB()\n",
    "model_multinomial_nb.fit(train_post,train_target)"
   ]
  },
  {
   "cell_type": "code",
   "execution_count": null,
   "metadata": {
    "execution": {
     "iopub.execute_input": "2021-07-04T17:47:40.494232Z",
     "iopub.status.busy": "2021-07-04T17:47:40.493541Z",
     "iopub.status.idle": "2021-07-04T17:47:40.723189Z",
     "shell.execute_reply": "2021-07-04T17:47:40.72208Z",
     "shell.execute_reply.started": "2021-07-04T17:47:40.494188Z"
    }
   },
   "outputs": [],
   "source": [
    "\n",
    "print('train classification report \\n ',classification_report(train_target,model_multinomial_nb.predict(train_post),target_names=target_encoder.inverse_transform([i for i in range(16)])))\n",
    "print('test classification report \\n ',classification_report(test_target,model_multinomial_nb.predict(test_post),target_names=target_encoder.inverse_transform([i for i in range(16)])))"
   ]
  },
  {
   "cell_type": "code",
   "execution_count": null,
   "metadata": {
    "execution": {
     "iopub.execute_input": "2021-07-04T17:47:40.725801Z",
     "iopub.status.busy": "2021-07-04T17:47:40.725008Z",
     "iopub.status.idle": "2021-07-04T17:47:40.767962Z",
     "shell.execute_reply": "2021-07-04T17:47:40.766625Z",
     "shell.execute_reply.started": "2021-07-04T17:47:40.725737Z"
    }
   },
   "outputs": [],
   "source": [
    "models_accuracy['Multinomial Naive Bayes']=accuracy_score(test_target,model_multinomial_nb.predict(test_post))"
   ]
  },
  {
   "cell_type": "markdown",
   "metadata": {},
   "source": [
    "<h4 style=\"background-color:#cc99ff;font-family:newtimeroman;font-size:300%;text-align:center;border-radius: 15px 50px;padding: 5px \">Decision Tree Classifier</h4>"
   ]
  },
  {
   "cell_type": "code",
   "execution_count": null,
   "metadata": {
    "execution": {
     "iopub.execute_input": "2021-07-04T17:47:40.770902Z",
     "iopub.status.busy": "2021-07-04T17:47:40.770024Z",
     "iopub.status.idle": "2021-07-04T17:47:46.497079Z",
     "shell.execute_reply": "2021-07-04T17:47:46.495824Z",
     "shell.execute_reply.started": "2021-07-04T17:47:40.770855Z"
    }
   },
   "outputs": [],
   "source": [
    "model_tree=DecisionTreeClassifier(max_depth=14)\n",
    "model_tree.fit(train_post,train_target)"
   ]
  },
  {
   "cell_type": "code",
   "execution_count": null,
   "metadata": {
    "execution": {
     "iopub.execute_input": "2021-07-04T17:47:46.4994Z",
     "iopub.status.busy": "2021-07-04T17:47:46.498921Z",
     "iopub.status.idle": "2021-07-04T17:47:46.663936Z",
     "shell.execute_reply": "2021-07-04T17:47:46.662558Z",
     "shell.execute_reply.started": "2021-07-04T17:47:46.499309Z"
    }
   },
   "outputs": [],
   "source": [
    "\n",
    "print('train classification report \\n ',classification_report(train_target,model_tree.predict(train_post),target_names=target_encoder.inverse_transform([i for i in range(16)])))\n",
    "print('test classification report \\n ',classification_report(test_target,model_tree.predict(test_post),target_names=target_encoder.inverse_transform([i for i in range(16)])))"
   ]
  },
  {
   "cell_type": "code",
   "execution_count": null,
   "metadata": {
    "execution": {
     "iopub.execute_input": "2021-07-04T17:47:46.666165Z",
     "iopub.status.busy": "2021-07-04T17:47:46.665681Z",
     "iopub.status.idle": "2021-07-04T17:47:46.697658Z",
     "shell.execute_reply": "2021-07-04T17:47:46.696428Z",
     "shell.execute_reply.started": "2021-07-04T17:47:46.666121Z"
    }
   },
   "outputs": [],
   "source": [
    "models_accuracy['Decision Tree classifier']=accuracy_score(test_target,model_tree.predict(test_post))"
   ]
  },
  {
   "cell_type": "markdown",
   "metadata": {},
   "source": [
    "<h4 style=\"background-color:#cc99ff;font-family:newtimeroman;font-size:300%;text-align:center;border-radius: 15px 50px;padding: 5px \">Random Forest Classifier</h4>"
   ]
  },
  {
   "cell_type": "code",
   "execution_count": null,
   "metadata": {
    "execution": {
     "iopub.execute_input": "2021-07-04T17:47:46.699641Z",
     "iopub.status.busy": "2021-07-04T17:47:46.699148Z",
     "iopub.status.idle": "2021-07-04T17:47:51.041765Z",
     "shell.execute_reply": "2021-07-04T17:47:51.040752Z",
     "shell.execute_reply.started": "2021-07-04T17:47:46.699595Z"
    }
   },
   "outputs": [],
   "source": [
    "model_forest=RandomForestClassifier(max_depth=10)\n",
    "model_forest.fit(train_post,train_target)"
   ]
  },
  {
   "cell_type": "code",
   "execution_count": null,
   "metadata": {
    "execution": {
     "iopub.execute_input": "2021-07-04T17:47:51.045036Z",
     "iopub.status.busy": "2021-07-04T17:47:51.044324Z",
     "iopub.status.idle": "2021-07-04T17:47:51.383482Z",
     "shell.execute_reply": "2021-07-04T17:47:51.382097Z",
     "shell.execute_reply.started": "2021-07-04T17:47:51.044977Z"
    }
   },
   "outputs": [],
   "source": [
    "\n",
    "print('train classification report \\n ',classification_report(train_target,model_forest.predict(train_post),target_names=target_encoder.inverse_transform([i for i in range(16)])))\n",
    "print('test classification report \\n ',classification_report(test_target,model_forest.predict(test_post),target_names=target_encoder.inverse_transform([i for i in range(16)])))"
   ]
  },
  {
   "cell_type": "code",
   "execution_count": null,
   "metadata": {
    "execution": {
     "iopub.execute_input": "2021-07-04T17:47:51.385734Z",
     "iopub.status.busy": "2021-07-04T17:47:51.385258Z",
     "iopub.status.idle": "2021-07-04T17:47:51.459757Z",
     "shell.execute_reply": "2021-07-04T17:47:51.458639Z",
     "shell.execute_reply.started": "2021-07-04T17:47:51.385651Z"
    }
   },
   "outputs": [],
   "source": [
    "models_accuracy['Random Forest Classifier']=accuracy_score(test_target,model_forest.predict(test_post))"
   ]
  },
  {
   "cell_type": "markdown",
   "metadata": {},
   "source": [
    "<h4 style=\"background-color:#cc99ff;font-family:newtimeroman;font-size:300%;text-align:center;border-radius: 15px 50px;padding: 5px \">XGBoost Classifier</h4>"
   ]
  },
  {
   "cell_type": "code",
   "execution_count": 88,
   "metadata": {
    "execution": {
     "iopub.execute_input": "2021-07-04T17:47:51.461629Z",
     "iopub.status.busy": "2021-07-04T17:47:51.461192Z",
     "iopub.status.idle": "2021-07-04T17:48:30.50546Z",
     "shell.execute_reply": "2021-07-04T17:48:30.50439Z",
     "shell.execute_reply.started": "2021-07-04T17:47:51.461588Z"
    }
   },
   "outputs": [
    {
     "name": "stdout",
     "output_type": "stream",
     "text": [
      "[23:18:11] WARNING: C:/Users/Administrator/workspace/xgboost-win64_release_1.4.0/src/learner.cc:1095: Starting in XGBoost 1.3.0, the default evaluation metric used with the objective 'multi:softprob' was changed from 'merror' to 'mlogloss'. Explicitly set eval_metric if you'd like to restore the old behavior.\n"
     ]
    },
    {
     "data": {
      "text/plain": [
       "XGBClassifier(base_score=0.5, booster='gbtree', colsample_bylevel=1,\n",
       "              colsample_bynode=1, colsample_bytree=1, gamma=0, gpu_id=0,\n",
       "              importance_type='gain', interaction_constraints='',\n",
       "              learning_rate=0.1, max_delta_step=0, max_depth=5,\n",
       "              min_child_weight=1, missing=nan, monotone_constraints='()',\n",
       "              n_estimators=50, n_jobs=12, num_parallel_tree=1,\n",
       "              objective='multi:softprob', random_state=0, reg_alpha=0,\n",
       "              reg_lambda=1, scale_pos_weight=None, subsample=1,\n",
       "              tree_method='gpu_hist', validate_parameters=1, verbosity=None)"
      ]
     },
     "execution_count": 88,
     "metadata": {},
     "output_type": "execute_result"
    }
   ],
   "source": [
    "model_xgb=XGBClassifier(gpu_id=0,tree_method='gpu_hist',max_depth=5,n_estimators=50,learning_rate=0.1)\n",
    "model_xgb.fit(train_post,train_target)"
   ]
  },
  {
   "cell_type": "code",
   "execution_count": 89,
   "metadata": {
    "execution": {
     "iopub.execute_input": "2021-07-04T17:48:30.507564Z",
     "iopub.status.busy": "2021-07-04T17:48:30.507101Z",
     "iopub.status.idle": "2021-07-04T17:48:31.339893Z",
     "shell.execute_reply": "2021-07-04T17:48:31.333875Z",
     "shell.execute_reply.started": "2021-07-04T17:48:30.507518Z"
    }
   },
   "outputs": [
    {
     "name": "stdout",
     "output_type": "stream",
     "text": [
      "train classification report \n",
      "                precision    recall  f1-score   support\n",
      "\n",
      "        ENFJ       0.99      0.92      0.95       152\n",
      "        ENFP       0.94      0.91      0.92       540\n",
      "        ENTJ       0.99      0.90      0.94       185\n",
      "        ENTP       0.94      0.91      0.92       548\n",
      "        ESFJ       1.00      0.91      0.95        34\n",
      "        ESFP       1.00      0.92      0.96        38\n",
      "        ESTJ       1.00      0.84      0.91        31\n",
      "        ESTP       1.00      0.94      0.97        71\n",
      "        INFJ       0.91      0.90      0.91      1176\n",
      "        INFP       0.89      0.95      0.92      1465\n",
      "        INTJ       0.92      0.92      0.92       873\n",
      "        INTP       0.90      0.93      0.91      1043\n",
      "        ISFJ       1.00      0.96      0.98       133\n",
      "        ISFP       0.99      0.92      0.95       217\n",
      "        ISTJ       0.99      0.92      0.95       164\n",
      "        ISTP       0.97      0.96      0.96       270\n",
      "\n",
      "    accuracy                           0.92      6940\n",
      "   macro avg       0.96      0.92      0.94      6940\n",
      "weighted avg       0.92      0.92      0.92      6940\n",
      "\n",
      "test classification report \n",
      "                precision    recall  f1-score   support\n",
      "\n",
      "        ENFJ       0.62      0.34      0.44        38\n",
      "        ENFP       0.69      0.61      0.65       135\n",
      "        ENTJ       0.75      0.39      0.51        46\n",
      "        ENTP       0.59      0.56      0.57       137\n",
      "        ESFJ       1.00      0.12      0.22         8\n",
      "        ESFP       1.00      0.10      0.18        10\n",
      "        ESTJ       1.00      0.12      0.22         8\n",
      "        ESTP       0.38      0.17      0.23        18\n",
      "        INFJ       0.67      0.74      0.71       294\n",
      "        INFP       0.67      0.81      0.73       367\n",
      "        INTJ       0.68      0.66      0.67       218\n",
      "        INTP       0.67      0.77      0.72       261\n",
      "        ISFJ       0.68      0.45      0.55        33\n",
      "        ISFP       0.69      0.46      0.56        54\n",
      "        ISTJ       0.65      0.37      0.47        41\n",
      "        ISTP       0.66      0.63      0.64        67\n",
      "\n",
      "    accuracy                           0.67      1735\n",
      "   macro avg       0.71      0.46      0.50      1735\n",
      "weighted avg       0.67      0.67      0.65      1735\n",
      "\n"
     ]
    }
   ],
   "source": [
    "\n",
    "print('train classification report \\n ',classification_report(train_target,model_xgb.predict(train_post),target_names=target_encoder.inverse_transform([i for i in range(16)])))\n",
    "print('test classification report \\n ',classification_report(test_target,model_xgb.predict(test_post),target_names=target_encoder.inverse_transform([i for i in range(16)])))"
   ]
  },
  {
   "cell_type": "code",
   "execution_count": 90,
   "metadata": {},
   "outputs": [],
   "source": [
    "predxg=model_xgb.predict(test_post)"
   ]
  },
  {
   "cell_type": "code",
   "execution_count": 91,
   "metadata": {},
   "outputs": [
    {
     "name": "stdout",
     "output_type": "stream",
     "text": [
      "0.8651296829971181\n",
      "0.9037463976945245\n",
      "0.8432276657060519\n",
      "0.822478386167147\n"
     ]
    }
   ],
   "source": [
    "import numpy as np\n",
    "predxg=predxg.astype(np.int)\n",
    "y=target_encoder.inverse_transform(predxg)\n",
    "x=target_encoder.inverse_transform(test_target)\n",
    "\n",
    "for i in range(4):\n",
    "    a=[]\n",
    "    b=[]\n",
    "    for j in range(len(y)):\n",
    "        a.append(x[j][i])\n",
    "        b.append(y[j][i])\n",
    "    print(accuracy_score(a,b))"
   ]
  },
  {
   "cell_type": "code",
   "execution_count": null,
   "metadata": {
    "execution": {
     "iopub.execute_input": "2021-07-04T17:48:31.344807Z",
     "iopub.status.busy": "2021-07-04T17:48:31.34436Z",
     "iopub.status.idle": "2021-07-04T17:48:31.735221Z",
     "shell.execute_reply": "2021-07-04T17:48:31.733525Z",
     "shell.execute_reply.started": "2021-07-04T17:48:31.344766Z"
    },
    "scrolled": false
   },
   "outputs": [],
   "source": [
    "models_accuracy['XGBoost Classifier']=accuracy_score(test_target,model_xgb.predict(test_post))\n",
    "models_accuracy"
   ]
  },
  {
   "cell_type": "markdown",
   "metadata": {},
   "source": [
    "<h4 style=\"background-color:#cc99ff;font-family:newtimeroman;font-size:300%;text-align:center;border-radius: 15px 50px;padding: 5px \">CatBoost Classifier</h4>"
   ]
  },
  {
   "cell_type": "code",
   "execution_count": 29,
   "metadata": {
    "execution": {
     "iopub.execute_input": "2021-07-04T17:48:31.744299Z",
     "iopub.status.busy": "2021-07-04T17:48:31.741735Z",
     "iopub.status.idle": "2021-07-04T17:51:51.691923Z",
     "shell.execute_reply": "2021-07-04T17:51:51.690702Z",
     "shell.execute_reply.started": "2021-07-04T17:48:31.74424Z"
    }
   },
   "outputs": [
    {
     "name": "stdout",
     "output_type": "stream",
     "text": [
      "Learning Rate is 0.131    accuracy= 0.6720461095100865\n",
      "Learning Rate is 0.132    accuracy= 0.6680115273775216\n",
      "Learning Rate is 0.133    accuracy= 0.669164265129683\n",
      "Learning Rate is 0.134    accuracy= 0.6726224783861672\n",
      "Learning Rate is 0.135    accuracy= 0.6789625360230548\n",
      "Learning Rate is 0.136    accuracy= 0.6743515850144092\n",
      "Learning Rate is 0.137    accuracy= 0.6737752161383286\n",
      "Learning Rate is 0.138    accuracy= 0.676657060518732\n",
      "Learning Rate is 0.139    accuracy= 0.6720461095100865\n"
     ]
    }
   ],
   "source": [
    "i=0.131\n",
    "while (i<0.14):\n",
    "    model_cat=CatBoostClassifier(loss_function='MultiClass',eval_metric='MultiClass',task_type='GPU',learning_rate=i,verbose=False)\n",
    "    model_cat.fit(train_post,train_target)\n",
    "    print(\"Learning Rate is\",str(i),\"   accuracy=\",accuracy_score(test_target,model_cat.predict(test_post)))\n",
    "    i+=0.001\n",
    "    i=round(i,3)"
   ]
  },
  {
   "cell_type": "code",
   "execution_count": 31,
   "metadata": {},
   "outputs": [
    {
     "name": "stdout",
     "output_type": "stream",
     "text": [
      "Learning Rate is 0.14    accuracy= 0.6818443804034582\n"
     ]
    }
   ],
   "source": [
    "model_cat=CatBoostClassifier(loss_function='MultiClass',eval_metric='MultiClass',task_type='GPU',learning_rate=0.14,verbose=False)\n",
    "model_cat.fit(train_post,train_target)\n",
    "print(\"Learning Rate is\",str(0.14),\"   accuracy=\",accuracy_score(test_target,model_cat.predict(test_post)))"
   ]
  },
  {
   "cell_type": "code",
   "execution_count": 32,
   "metadata": {
    "execution": {
     "iopub.execute_input": "2021-07-04T17:51:51.696682Z",
     "iopub.status.busy": "2021-07-04T17:51:51.696328Z",
     "iopub.status.idle": "2021-07-04T17:52:14.748733Z",
     "shell.execute_reply": "2021-07-04T17:52:14.747446Z",
     "shell.execute_reply.started": "2021-07-04T17:51:51.696646Z"
    }
   },
   "outputs": [
    {
     "name": "stdout",
     "output_type": "stream",
     "text": [
      "train classification report \n",
      "                precision    recall  f1-score   support\n",
      "\n",
      "        ENFJ       0.91      0.66      0.77       152\n",
      "        ENFP       0.85      0.81      0.83       540\n",
      "        ENTJ       0.91      0.69      0.78       185\n",
      "        ENTP       0.85      0.83      0.84       548\n",
      "        ESFJ       1.00      0.53      0.69        34\n",
      "        ESFP       1.00      0.42      0.59        38\n",
      "        ESTJ       1.00      0.48      0.65        31\n",
      "        ESTP       0.96      0.73      0.83        71\n",
      "        INFJ       0.86      0.88      0.87      1176\n",
      "        INFP       0.83      0.92      0.87      1465\n",
      "        INTJ       0.84      0.86      0.85       873\n",
      "        INTP       0.81      0.90      0.85      1043\n",
      "        ISFJ       0.92      0.72      0.81       133\n",
      "        ISFP       0.84      0.72      0.78       217\n",
      "        ISTJ       0.89      0.76      0.82       164\n",
      "        ISTP       0.90      0.84      0.87       270\n",
      "\n",
      "    accuracy                           0.85      6940\n",
      "   macro avg       0.90      0.73      0.79      6940\n",
      "weighted avg       0.85      0.85      0.85      6940\n",
      "\n",
      "test classification report \n",
      "                precision    recall  f1-score   support\n",
      "\n",
      "        ENFJ       0.63      0.45      0.52        38\n",
      "        ENFP       0.73      0.67      0.70       135\n",
      "        ENTJ       0.74      0.43      0.55        46\n",
      "        ENTP       0.60      0.58      0.59       137\n",
      "        ESFJ       1.00      0.12      0.22         8\n",
      "        ESFP       0.00      0.00      0.00        10\n",
      "        ESTJ       1.00      0.12      0.22         8\n",
      "        ESTP       0.70      0.39      0.50        18\n",
      "        INFJ       0.70      0.76      0.73       294\n",
      "        INFP       0.69      0.80      0.74       367\n",
      "        INTJ       0.66      0.66      0.66       218\n",
      "        INTP       0.67      0.79      0.72       261\n",
      "        ISFJ       0.82      0.55      0.65        33\n",
      "        ISFP       0.64      0.46      0.54        54\n",
      "        ISTJ       0.75      0.37      0.49        41\n",
      "        ISTP       0.67      0.67      0.67        67\n",
      "\n",
      "    accuracy                           0.68      1735\n",
      "   macro avg       0.69      0.49      0.53      1735\n",
      "weighted avg       0.68      0.68      0.67      1735\n",
      "\n"
     ]
    }
   ],
   "source": [
    "\n",
    "print('train classification report \\n ',classification_report(train_target,model_cat.predict(train_post),target_names=target_encoder.inverse_transform([i for i in range(16)])))\n",
    "print('test classification report \\n ',classification_report(test_target,model_cat.predict(test_post),target_names=target_encoder.inverse_transform([i for i in range(16)])))"
   ]
  },
  {
   "cell_type": "code",
   "execution_count": 33,
   "metadata": {
    "execution": {
     "iopub.execute_input": "2021-07-04T17:52:14.750789Z",
     "iopub.status.busy": "2021-07-04T17:52:14.750293Z",
     "iopub.status.idle": "2021-07-04T17:52:19.175104Z",
     "shell.execute_reply": "2021-07-04T17:52:19.174087Z",
     "shell.execute_reply.started": "2021-07-04T17:52:14.750747Z"
    }
   },
   "outputs": [],
   "source": [
    "models_accuracy['CatBoost Classifier']=accuracy_score(test_target,model_cat.predict(test_post))"
   ]
  },
  {
   "cell_type": "code",
   "execution_count": 34,
   "metadata": {
    "execution": {
     "iopub.execute_input": "2021-07-04T17:52:19.17704Z",
     "iopub.status.busy": "2021-07-04T17:52:19.176622Z",
     "iopub.status.idle": "2021-07-04T17:52:19.186754Z",
     "shell.execute_reply": "2021-07-04T17:52:19.185148Z",
     "shell.execute_reply.started": "2021-07-04T17:52:19.177Z"
    }
   },
   "outputs": [
    {
     "data": {
      "text/plain": [
       "{'CatBoost Classifier': 0.6818443804034582}"
      ]
     },
     "execution_count": 34,
     "metadata": {},
     "output_type": "execute_result"
    }
   ],
   "source": [
    "models_accuracy\n",
    "\n"
   ]
  },
  {
   "cell_type": "code",
   "execution_count": null,
   "metadata": {},
   "outputs": [],
   "source": [
    "predy=model_cat.predict(test_post)"
   ]
  },
  {
   "cell_type": "code",
   "execution_count": null,
   "metadata": {},
   "outputs": [],
   "source": [
    "import numpy as np\n",
    "predy=predy.astype(np.int)"
   ]
  },
  {
   "cell_type": "code",
   "execution_count": 87,
   "metadata": {},
   "outputs": [
    {
     "name": "stdout",
     "output_type": "stream",
     "text": [
      "0.8760806916426513\n",
      "0.9106628242074928\n",
      "0.8455331412103746\n",
      "0.829971181556196\n"
     ]
    }
   ],
   "source": [
    "y=target_encoder.inverse_transform(predy)\n",
    "x=target_encoder.inverse_transform(test_target)\n",
    "\n",
    "for i in range(4):\n",
    "    a=[]\n",
    "    b=[]\n",
    "    for j in range(len(y)):\n",
    "        a.append(x[j][i])\n",
    "        b.append(y[j][i])\n",
    "    print(accuracy_score(a,b))\n",
    "    \n",
    "    "
   ]
  },
  {
   "cell_type": "code",
   "execution_count": 83,
   "metadata": {},
   "outputs": [
    {
     "data": {
      "text/plain": [
       "str"
      ]
     },
     "execution_count": 83,
     "metadata": {},
     "output_type": "execute_result"
    }
   ],
   "source": [
    "x=target_encoder.inverse_transform(test_target)\n",
    "type(x[0])"
   ]
  },
  {
   "cell_type": "code",
   "execution_count": 84,
   "metadata": {},
   "outputs": [
    {
     "data": {
      "text/plain": [
       "0.9106628242074928"
      ]
     },
     "execution_count": 84,
     "metadata": {},
     "output_type": "execute_result"
    }
   ],
   "source": [
    "accuracy_score(a,b)"
   ]
  },
  {
   "cell_type": "code",
   "execution_count": null,
   "metadata": {
    "execution": {
     "iopub.execute_input": "2021-07-04T18:11:15.247368Z",
     "iopub.status.busy": "2021-07-04T18:11:15.246855Z",
     "iopub.status.idle": "2021-07-04T18:11:15.259772Z",
     "shell.execute_reply": "2021-07-04T18:11:15.254441Z",
     "shell.execute_reply.started": "2021-07-04T18:11:15.247297Z"
    }
   },
   "outputs": [],
   "source": [
    "accuarcy=pd.DataFrame(models_accuracy.items(),columns=['Models','Test accuracy'])"
   ]
  },
  {
   "cell_type": "code",
   "execution_count": null,
   "metadata": {
    "execution": {
     "iopub.execute_input": "2021-07-04T18:29:52.691465Z",
     "iopub.status.busy": "2021-07-04T18:29:52.691046Z",
     "iopub.status.idle": "2021-07-04T18:29:52.71177Z",
     "shell.execute_reply": "2021-07-04T18:29:52.710493Z",
     "shell.execute_reply.started": "2021-07-04T18:29:52.691434Z"
    }
   },
   "outputs": [],
   "source": [
    "accuarcy.sort_values(by='Test accuracy',ascending=False,ignore_index=True).style.background_gradient(cmap='Blues')"
   ]
  },
  {
   "cell_type": "code",
   "execution_count": null,
   "metadata": {},
   "outputs": [],
   "source": []
  },
  {
   "cell_type": "markdown",
   "metadata": {},
   "source": [
    "### Catboost model seems to perform well in predicting values."
   ]
  },
  {
   "cell_type": "markdown",
   "metadata": {},
   "source": [
    "<font style=\"color: red;font-size:200%;text-align:center;border-radius: 15px 50px;padding: 5px \"><center>Hope you liked this notebook. If you did please upvote it!! If having any query or suggestion, feel free to ask in comment section.</center></font>"
   ]
  }
 ],
 "metadata": {
  "kernelspec": {
   "display_name": "Python 3 (ipykernel)",
   "language": "python",
   "name": "python3"
  },
  "language_info": {
   "codemirror_mode": {
    "name": "ipython",
    "version": 3
   },
   "file_extension": ".py",
   "mimetype": "text/x-python",
   "name": "python",
   "nbconvert_exporter": "python",
   "pygments_lexer": "ipython3",
   "version": "3.7.10"
  }
 },
 "nbformat": 4,
 "nbformat_minor": 4
}
